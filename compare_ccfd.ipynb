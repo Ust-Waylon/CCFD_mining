{
 "cells": [
  {
   "cell_type": "code",
   "execution_count": 159,
   "metadata": {},
   "outputs": [],
   "source": [
    "import numpy as np\n",
    "import re"
   ]
  },
  {
   "cell_type": "code",
   "execution_count": 160,
   "metadata": {},
   "outputs": [],
   "source": [
    "filename_1 = '/rwproject/kdd-db/students/wtanae/project/webank/cfdminer/datasets/original_mock/full_ccfd_output.txt'\n",
    "filename_2 = '/rwproject/kdd-db/students/wtanae/project/webank/cfdminer/datasets/original_mock/merged_ccfd_output.txt'"
   ]
  },
  {
   "cell_type": "code",
   "execution_count": 161,
   "metadata": {},
   "outputs": [],
   "source": [
    "def parse_ccfd(ccfd_str):\n",
    "    # Extract the LHS and RHS parts of the CCFD\n",
    "    match = re.match(r'\\[(.*?)\\] => (.*?), \\((.*?) \\|\\| (.*?)\\)', ccfd_str)\n",
    "    if not match:\n",
    "        raise ValueError(f\"Invalid CCFD format: {ccfd_str}\")\n",
    "    \n",
    "    lhs_attributes = set(match.group(1).split(', '))\n",
    "    rhs_attribute = set([match.group(2)])\n",
    "    lhs_values = set(match.group(3).split(', '))\n",
    "    rhs_value = set([match.group(4)])\n",
    "    \n",
    "    return lhs_attributes, rhs_attribute, lhs_values, rhs_value"
   ]
  },
  {
   "cell_type": "code",
   "execution_count": 162,
   "metadata": {},
   "outputs": [],
   "source": [
    "def parse_ccfd_file(filename):\n",
    "    with open(filename, 'r') as file:\n",
    "        ccfd_list = file.readlines()\n",
    "    return [parse_ccfd(ccfd) for ccfd in ccfd_list]"
   ]
  },
  {
   "cell_type": "code",
   "execution_count": 163,
   "metadata": {},
   "outputs": [],
   "source": [
    "def compare_ccfd_files(filename_1, filename_2):\n",
    "    ccfd_list_1 = parse_ccfd_file(filename_1)\n",
    "    ccfd_list_2 = parse_ccfd_file(filename_2)\n",
    "    \n",
    "    # CCFDs in file 1 but not in file 2\n",
    "    ccfd_1T2F = [ccfd for ccfd in ccfd_list_1 if ccfd not in ccfd_list_2]\n",
    "    print(f\"number of CCFDs in file 1 but not in file 2 (miss): {len(ccfd_1T2F)}\")\n",
    "    # CCFDs in file 2 but not in file 1\n",
    "    ccfd_1F2T = [ccfd for ccfd in ccfd_list_2 if ccfd not in ccfd_list_1]\n",
    "    print(f\"number of CCFDs in file 2 but not in file 1 (false positive): {len(ccfd_1F2T)}\")\n",
    "    # CCFDs in both files\n",
    "    ccfd_1T2T = [ccfd for ccfd in ccfd_list_1 if ccfd in ccfd_list_2]\n",
    "    print(f\"number of CCFDs in both files (hit): {len(ccfd_1T2T)}\")\n"
   ]
  },
  {
   "cell_type": "code",
   "execution_count": 164,
   "metadata": {},
   "outputs": [
    {
     "name": "stdout",
     "output_type": "stream",
     "text": [
      "number of CCFDs in file 1 but not in file 2 (miss): 488\n",
      "number of CCFDs in file 2 but not in file 1 (false positive): 266\n",
      "number of CCFDs in both files (hit): 578\n"
     ]
    }
   ],
   "source": [
    "compare_ccfd_files(filename_1, filename_2)"
   ]
  }
 ],
 "metadata": {
  "kernelspec": {
   "display_name": "ccfd",
   "language": "python",
   "name": "python3"
  },
  "language_info": {
   "codemirror_mode": {
    "name": "ipython",
    "version": 3
   },
   "file_extension": ".py",
   "mimetype": "text/x-python",
   "name": "python",
   "nbconvert_exporter": "python",
   "pygments_lexer": "ipython3",
   "version": "3.10.15"
  }
 },
 "nbformat": 4,
 "nbformat_minor": 2
}
